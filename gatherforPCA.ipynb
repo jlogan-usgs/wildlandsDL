{
 "cells": [
  {
   "cell_type": "markdown",
   "metadata": {},
   "source": [
    "### Gather data for PCA"
   ]
  },
  {
   "cell_type": "code",
   "execution_count": 1,
   "metadata": {},
   "outputs": [],
   "source": [
    "import pandas as pd\n",
    "import geopandas as gpd\n",
    "import numpy as np\n",
    "import rasterio \n",
    "from pathlib import Path\n",
    "from scipy import ndimage\n",
    "from scipy.misc import bytescale\n"
   ]
  },
  {
   "cell_type": "code",
   "execution_count": 2,
   "metadata": {},
   "outputs": [],
   "source": [
    "#inputs local\n",
    "inortho = r\"T:\\UAS\\2018-676-FA\\products\\ortho\\2018-10-23-Wildlands_ortho.tif\"\n",
    "indsm = r\"T:\\UAS\\2018-676-FA\\products\\dsm\\2018-10-23-Wildlands_DSM_10cm.tif\"\n",
    "invari = r\"D:\\jlogan\\2018-676-FA\\tmp_veg_indices\\vari_scaled_int_fromlzw.tif\"\n",
    "intgi = r\"D:\\jlogan\\2018-676-FA\\tmp_veg_indices\\tgi_scaled_int_fromlzw.tif\"\n",
    "inpoints = r\"T:\\UAS\\2018-676-FA\\validation\\wld_topo_17-18_combined_kdthinned10cm.csv\"\n",
    "\n",
    "#inputs lab computer\n",
    "#inortho = r\"D:\\jlogan\\2018-676-FA\\products\\ortho\\2018-10-23-Wildlands_ortho_lzw.tif\"\n",
    "#indsm = r\"D:\\jlogan\\2018-676-FA\\products\\dsm\\2018-10-23-Wildlands_DSM_10cm.tif\"\n",
    "#invari = r\"D:\\jlogan\\2018-676-FA\\tmp_veg_indices\\vari_scaled_int_fromlzw.tif\"\n",
    "#intgi = r\"D:\\jlogan\\2018-676-FA\\tmp_veg_indices\\tgi_scaled_int_fromlzw.tif\"\n",
    "#inpoints = r\"T:\\UAS\\2018-676-FA\\validation\\wld_topo_17-18_combined_kdthinned10cm.csv\"\n",
    "\n",
    "for n in [inortho, indsm, invari, intgi, inpoints]:\n",
    "    n = Path(n)   "
   ]
  },
  {
   "cell_type": "code",
   "execution_count": 3,
   "metadata": {},
   "outputs": [],
   "source": [
    "#load input pts\n",
    "ptdf = pd.read_csv(inpoints)"
   ]
  },
  {
   "cell_type": "code",
   "execution_count": 4,
   "metadata": {},
   "outputs": [],
   "source": [
    "#load input rgb image\n",
    "dataset = rasterio.open(inortho)\n",
    "aff = dataset.transform\n",
    "#img = dataset.read()"
   ]
  },
  {
   "cell_type": "code",
   "execution_count": 5,
   "metadata": {},
   "outputs": [],
   "source": [
    "r = dataset.read(1)\n",
    "g = dataset.read(2)\n",
    "b = dataset.read(3)"
   ]
  },
  {
   "cell_type": "code",
   "execution_count": null,
   "metadata": {},
   "outputs": [
    {
     "name": "stderr",
     "output_type": "stream",
     "text": [
      "C:\\Users\\jlogan\\AppData\\Local\\Continuum\\anaconda3\\lib\\site-packages\\ipykernel_launcher.py:4: RuntimeWarning: divide by zero encountered in true_divide\n",
      "  after removing the cwd from sys.path.\n",
      "C:\\Users\\jlogan\\AppData\\Local\\Continuum\\anaconda3\\lib\\site-packages\\ipykernel_launcher.py:4: RuntimeWarning: invalid value encountered in true_divide\n",
      "  after removing the cwd from sys.path.\n",
      "C:\\Users\\jlogan\\AppData\\Local\\Continuum\\anaconda3\\lib\\site-packages\\ipykernel_launcher.py:12: DeprecationWarning: `bytescale` is deprecated!\n",
      "`bytescale` is deprecated in SciPy 1.0.0, and will be removed in 1.2.0.\n",
      "  if sys.path[0] == '':\n",
      "C:\\Users\\jlogan\\AppData\\Local\\Continuum\\anaconda3\\lib\\site-packages\\ipykernel_launcher.py:13: DeprecationWarning: `bytescale` is deprecated!\n",
      "`bytescale` is deprecated in SciPy 1.0.0, and will be removed in 1.2.0.\n",
      "  del sys.path[0]\n"
     ]
    }
   ],
   "source": [
    "#calc psuedo veg indices\n",
    "#https://agribotix.com/blog/2017/04/30/comparing-rgb-based-vegetation-indices-with-ndvi-for-agricultural-drone-imagery/\n",
    "tgi = g - 0.39 * r - 0.61 * b\n",
    "vari = (g-r)/g+r-b\n",
    "\n",
    "#mask infs in vari\n",
    "vari_masked = np.ma.masked_invalid(vari)\n",
    "tgi_masked = np.ma.masked_invalid(tgi)\n",
    "del tgi, vari\n",
    "\n",
    "#scale to 0 -255\n",
    "vari_scaled = bytescale(vari_masked)\n",
    "tgi_scaled = bytescale(tgi_masked)\n",
    "del tgi_masked, vari_masked\n"
   ]
  },
  {
   "cell_type": "code",
   "execution_count": null,
   "metadata": {},
   "outputs": [],
   "source": [
    "r.shape, vari_scaled.shape"
   ]
  },
  {
   "cell_type": "code",
   "execution_count": 43,
   "metadata": {},
   "outputs": [],
   "source": [
    "#for r, g, b, vari and tgi sample grid and add to df\n",
    "\n",
    "#get img coords on df\n",
    "ptdf['imgcol_int'], ptdf['imgrow_int'] = np.floor(~aff * (ptdf['e'], ptdf['n'])).astype(int)\n",
    "\n",
    "ptdf['r'] = r[ptdf['imgrow_int'],ptdf['imgcol_int']]\n",
    "ptdf['g'] = g[ptdf['imgrow_int'],ptdf['imgcol_int']]\n",
    "ptdf['b'] = b[ptdf['imgrow_int'],ptdf['imgcol_int']]\n",
    "ptdf['vari'] = vari_scaled[ptdf['imgrow_int'],ptdf['imgcol_int']]\n",
    "ptdf['tig'] = tgi_scaled[ptdf['imgrow_int'],ptdf['imgcol_int']]"
   ]
  },
  {
   "cell_type": "code",
   "execution_count": 48,
   "metadata": {},
   "outputs": [],
   "source": [
    "#load dem\n",
    "\n",
    "\n",
    "#calc mean of kernel\n",
    "#from https://gis.stackexchange.com/a/254795/129277\n",
    "m = np.array([[13, 21, 13,  8],\n",
    "              [ 5, 10, 22, 14],\n",
    "              [21, 33,  9,  0],\n",
    "              [ 0,  0,  0,  0]], dtype=np.float)\n",
    "\n",
    "result = ndimage.generic_filter(a, np.nanmean, size=3, mode='constant', cval=np.NaN)\n"
   ]
  }
 ],
 "metadata": {
  "kernelspec": {
   "display_name": "Python 3",
   "language": "python",
   "name": "python3"
  },
  "language_info": {
   "codemirror_mode": {
    "name": "ipython",
    "version": 3
   },
   "file_extension": ".py",
   "mimetype": "text/x-python",
   "name": "python",
   "nbconvert_exporter": "python",
   "pygments_lexer": "ipython3",
   "version": "3.6.8"
  }
 },
 "nbformat": 4,
 "nbformat_minor": 2
}
