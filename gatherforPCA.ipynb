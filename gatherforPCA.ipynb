{
 "cells": [
  {
   "cell_type": "markdown",
   "metadata": {},
   "source": [
    "### Gather data for PCA"
   ]
  },
  {
   "cell_type": "code",
   "execution_count": 5,
   "metadata": {},
   "outputs": [],
   "source": [
    "import pandas as pd\n",
    "import geopandas as gpd\n",
    "import numpy as np\n",
    "from rasterio import rasterio, Affine\n",
    "from rasterio.warp import reproject, Resampling\n",
    "from pathlib import Path\n",
    "from scipy import ndimage\n",
    "from scipy.misc import bytescale\n"
   ]
  },
  {
   "cell_type": "code",
   "execution_count": 6,
   "metadata": {},
   "outputs": [],
   "source": [
    "#inputs local\n",
    "inortho = r\"T:\\UAS\\2018-676-FA\\products\\ortho\\2018-10-23-Wildlands_ortho.tif\"\n",
    "indsm = r\"T:\\UAS\\2018-676-FA\\products\\dsm\\2018-10-23-Wildlands_DSM_10cm.tif\"\n",
    "invari = r\"D:\\jlogan\\2018-676-FA\\tmp_veg_indices\\vari_scaled_int_fromlzw.tif\"\n",
    "intgi = r\"D:\\jlogan\\2018-676-FA\\tmp_veg_indices\\tgi_scaled_int_fromlzw.tif\"\n",
    "inpoints = r\"T:\\UAS\\2018-676-FA\\validation\\wld_topo_17-18_combined_kdthinned10cm.csv\"\n",
    "\n",
    "#inputs lab computer\n",
    "#inortho = r\"D:\\jlogan\\2018-676-FA\\products\\ortho\\2018-10-23-Wildlands_ortho_lzw.tif\"\n",
    "#indsm = r\"D:\\jlogan\\2018-676-FA\\products\\dsm\\2018-10-23-Wildlands_DSM_10cm.tif\"\n",
    "#invari = r\"D:\\jlogan\\2018-676-FA\\tmp_veg_indices\\vari_scaled_int_fromlzw.tif\"\n",
    "#intgi = r\"D:\\jlogan\\2018-676-FA\\tmp_veg_indices\\tgi_scaled_int_fromlzw.tif\"\n",
    "#inpoints = r\"T:\\UAS\\2018-676-FA\\validation\\wld_topo_17-18_combined_kdthinned10cm.csv\"\n",
    "\n",
    "for n in [inortho, indsm, invari, intgi, inpoints]:\n",
    "    n = Path(n)   "
   ]
  },
  {
   "cell_type": "code",
   "execution_count": 7,
   "metadata": {},
   "outputs": [],
   "source": [
    "#load input pts\n",
    "ptdf = pd.read_csv(inpoints)"
   ]
  },
  {
   "cell_type": "code",
   "execution_count": 8,
   "metadata": {},
   "outputs": [],
   "source": [
    "#load input rgb image\n",
    "dataset = rasterio.open(inortho)\n",
    "imgaff = dataset.transform\n",
    "#img = dataset.read()"
   ]
  },
  {
   "cell_type": "code",
   "execution_count": 5,
   "metadata": {},
   "outputs": [],
   "source": [
    "r = dataset.read(1)\n",
    "g = dataset.read(2)\n",
    "b = dataset.read(3)"
   ]
  },
  {
   "cell_type": "code",
   "execution_count": 6,
   "metadata": {},
   "outputs": [
    {
     "name": "stderr",
     "output_type": "stream",
     "text": [
      "C:\\Users\\jlogan\\AppData\\Local\\Continuum\\anaconda3\\lib\\site-packages\\ipykernel_launcher.py:4: RuntimeWarning: divide by zero encountered in true_divide\n",
      "  after removing the cwd from sys.path.\n",
      "C:\\Users\\jlogan\\AppData\\Local\\Continuum\\anaconda3\\lib\\site-packages\\ipykernel_launcher.py:4: RuntimeWarning: invalid value encountered in true_divide\n",
      "  after removing the cwd from sys.path.\n",
      "C:\\Users\\jlogan\\AppData\\Local\\Continuum\\anaconda3\\lib\\site-packages\\ipykernel_launcher.py:12: DeprecationWarning: `bytescale` is deprecated!\n",
      "`bytescale` is deprecated in SciPy 1.0.0, and will be removed in 1.2.0.\n",
      "  if sys.path[0] == '':\n",
      "C:\\Users\\jlogan\\AppData\\Local\\Continuum\\anaconda3\\lib\\site-packages\\ipykernel_launcher.py:13: DeprecationWarning: `bytescale` is deprecated!\n",
      "`bytescale` is deprecated in SciPy 1.0.0, and will be removed in 1.2.0.\n",
      "  del sys.path[0]\n"
     ]
    }
   ],
   "source": [
    "#calc psuedo veg indices\n",
    "#https://agribotix.com/blog/2017/04/30/comparing-rgb-based-vegetation-indices-with-ndvi-for-agricultural-drone-imagery/\n",
    "tgi = g - 0.39 * r - 0.61 * b\n",
    "vari = (g-r)/g+r-b\n",
    "\n",
    "#mask infs in vari\n",
    "vari_masked = np.ma.masked_invalid(vari)\n",
    "tgi_masked = np.ma.masked_invalid(tgi)\n",
    "del tgi, vari\n",
    "\n",
    "#scale to 0 -255\n",
    "vari_scaled = bytescale(vari_masked)\n",
    "tgi_scaled = bytescale(tgi_masked)\n",
    "del tgi_masked, vari_masked\n"
   ]
  },
  {
   "cell_type": "code",
   "execution_count": 7,
   "metadata": {},
   "outputs": [
    {
     "data": {
      "text/plain": [
       "((43008, 30720), (43008, 30720))"
      ]
     },
     "execution_count": 7,
     "metadata": {},
     "output_type": "execute_result"
    }
   ],
   "source": [
    "r.shape, vari_scaled.shape"
   ]
  },
  {
   "cell_type": "code",
   "execution_count": 9,
   "metadata": {},
   "outputs": [],
   "source": [
    "#for r, g, b, vari and tgi sample grid and add to df\n",
    "\n",
    "#get img coords on df\n",
    "ptdf['imgcol_int'], ptdf['imgrow_int'] = np.floor(~imgaff * (ptdf['e'], ptdf['n'])).astype(int)\n",
    "\n",
    "ptdf['r'] = r[ptdf['imgrow_int'],ptdf['imgcol_int']]\n",
    "ptdf['g'] = g[ptdf['imgrow_int'],ptdf['imgcol_int']]\n",
    "ptdf['b'] = b[ptdf['imgrow_int'],ptdf['imgcol_int']]\n",
    "ptdf['vari'] = vari_scaled[ptdf['imgrow_int'],ptdf['imgcol_int']]\n",
    "ptdf['tgi'] = tgi_scaled[ptdf['imgrow_int'],ptdf['imgcol_int']]"
   ]
  },
  {
   "cell_type": "code",
   "execution_count": 9,
   "metadata": {},
   "outputs": [
    {
     "data": {
      "text/plain": [
       "(1, 13470, 9630)"
      ]
     },
     "execution_count": 9,
     "metadata": {},
     "output_type": "execute_result"
    }
   ],
   "source": [
    "#load dsm\n",
    "dataset = rasterio.open(indsm)\n",
    "dsmaff = dataset.transform\n",
    "dsm = dataset.read()\n",
    "dsm.shape"
   ]
  },
  {
   "cell_type": "code",
   "execution_count": null,
   "metadata": {},
   "outputs": [],
   "source": [
    "#resample to match input rgb image\n",
    "#from https://github.com/mapbox/rasterio/blob/master/docs/topics/resampling.rst\n",
    "orig_dsm_res = dsmaff.a\n",
    "target_dsm_res = imgaff.a\n",
    "resample_factor = orig_dsm_res / target_dsm_res\n",
    "\n",
    "dsm_resamp = np.empty(shape=(dsm.shape[0],  # same number of bands\n",
    "                         round(dsm.shape[1] * resample_factor), # new resolution\n",
    "                         round(dsm.shape[2] * resample_factor)))\n",
    "\n",
    "# adjust the new affine transform to the smaller cell size\n",
    "newaff = Affine(dsmaff.a / resample_factor, dsmaff.b, dsmaff.c,\n",
    "                dsmaff.d, dsmaff.e / resample_factor, dsmaff.f)\n",
    "\n",
    "print(f'Orig. cell size: {dsmaff.a}\\nTarget cell size: {imgaff.a}\\nOutput cell size: {newaff.a}')\n",
    "\n",
    "reproject(\n",
    "    dsm, dsm_resamp,\n",
    "    src_transform = dsmaff,\n",
    "    dst_transform = newaff,\n",
    "    src_crs = dataset.crs,\n",
    "    dst_crs = dataset.crs,\n",
    "    resampling = Resampling.bilinear)"
   ]
  },
  {
   "cell_type": "code",
   "execution_count": null,
   "metadata": {},
   "outputs": [],
   "source": [
    "#get new pt coords for newdsm\n",
    "ptdf['dsmcol'], ptdf['dsmrow'] = ~newaff * (ptdf['e'], ptdf['n'])"
   ]
  },
  {
   "cell_type": "code",
   "execution_count": null,
   "metadata": {},
   "outputs": [],
   "source": [
    "#generic filter not working.  very slow\n",
    "# #calc mean of kernel\n",
    "# #from https://gis.stackexchange.com/a/254795/129277\n",
    "# # use 10 cm DSM for less memory requirements \n",
    "# #(just use 1/3 * desired kernel size (eg. 96 pixel kernel on 3cm dsm would be 32 pixel kernel))\n",
    "# std96 = ndimage.generic_filter(dsm, np.nanstd, size=32, mode='constant', cval=np.NaN)\n"
   ]
  },
  {
   "cell_type": "code",
   "execution_count": null,
   "metadata": {},
   "outputs": [],
   "source": [
    "#get elevation mean and std over 96 and 128 pixel windows\n",
    "def getstdev(dsmcol, dsmrow, dsm, numpixels):\n",
    "    intcol = np.floor(dsmcol).astype(int)\n",
    "    introw = np.floor(dsmrow).astype(int)\n",
    "    halfkernel = numpixels / 2\n",
    "    kern_std = np.nanstd(dsm[introw-halfkernel:introw+halfkernel, intcol-halfkernel:intcol+halfkernel])\n",
    "    return(kern_std)\n",
    "\n",
    "ptdf['std96'] = ptdf.apply(lambda row: getstdev(row['dsmcol'], row['dsmrow'], dsm_resamp, 96), axis=1)\n",
    "ptdf['std128'] = ptdf.apply(lambda row: getstdev(row['dsmcol'], row['dsmrow'], dsm_resamp, 128), axis=1)\n",
    "\n",
    "def getmean(dsmcol, dsmrow, dsm, numpixels):\n",
    "    intcol = np.floor(dsmcol).astype(int)\n",
    "    introw = np.floor(dsmrow).astype(int)\n",
    "    halfkernel = numpixels / 2\n",
    "    kern_mean = np.nanmean(dsm[introw-halfkernel:introw+halfkernel, intcol-halfkernel:intcol+halfkernel])\n",
    "    return(kern_mean)\n",
    "\n",
    "ptdf['mean96'] = ptdf.apply(lambda row: getmean(row['dsmcol'], row['dsmrow'], dsm_resamp, 96), axis=1)\n",
    "ptdf['mean128'] = ptdf.apply(lambda row: getmean(row['dsmcol'], row['dsmrow'], dsm_resamp, 128), axis=1)"
   ]
  },
  {
   "cell_type": "code",
   "execution_count": 69,
   "metadata": {},
   "outputs": [
    {
     "name": "stdout",
     "output_type": "stream",
     "text": [
      "2.9251773\n",
      "2.925618998994598\n"
     ]
    }
   ],
   "source": [
    "xy = np.floor(~dsmaff * (ptdf.loc[0]['e'], ptdf.loc[0]['n'])).tolist()\n",
    "print(dsm[0,int(xy[1]),int(xy[0])])\n",
    "xy2 = np.floor(~newaff * (ptdf.loc[0]['e'], ptdf.loc[0]['n'])).tolist()\n",
    "print(dsm_resamp[0,int(xy2[1]),int(xy2[0])])"
   ]
  }
 ],
 "metadata": {
  "kernelspec": {
   "display_name": "Python 3",
   "language": "python",
   "name": "python3"
  },
  "language_info": {
   "codemirror_mode": {
    "name": "ipython",
    "version": 3
   },
   "file_extension": ".py",
   "mimetype": "text/x-python",
   "name": "python",
   "nbconvert_exporter": "python",
   "pygments_lexer": "ipython3",
   "version": "3.6.8"
  }
 },
 "nbformat": 4,
 "nbformat_minor": 2
}
