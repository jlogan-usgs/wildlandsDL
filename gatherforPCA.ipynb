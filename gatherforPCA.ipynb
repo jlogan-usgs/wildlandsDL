{
 "cells": [
  {
   "cell_type": "markdown",
   "metadata": {},
   "source": [
    "### Gather data for PCA"
   ]
  },
  {
   "cell_type": "code",
   "execution_count": 3,
   "metadata": {},
   "outputs": [],
   "source": [
    "import pandas as pd\n",
    "import geopandas as gpd\n",
    "import numpy as np\n",
    "import rasterio \n",
    "from pathlib import Path\n",
    "from scipy import ndimage\n"
   ]
  },
  {
   "cell_type": "code",
   "execution_count": 6,
   "metadata": {},
   "outputs": [],
   "source": [
    "#inputs\n",
    "inortho = r\"D:\\jlogan\\2018-676-FA\\products\\ortho\\2018-10-23-Wildlands_ortho_lzw.tif\"\n",
    "indsm = r\"D:\\jlogan\\2018-676-FA\\products\\dsm\\2018-10-23-Wildlands_DSM_10cm.tif\"\n",
    "invari = r\"D:\\jlogan\\2018-676-FA\\tmp_veg_indices\\vari_scaled_int_fromlzw.tif\"\n",
    "intgi = r\"D:\\jlogan\\2018-676-FA\\tmp_veg_indices\\tgi_scaled_int_fromlzw.tif\"\n",
    "inpoints = r\"D:\\jlogan\\2018-676-FA\\wildlands_dl\\wildlands\\shp\\DSMResidByPolygon.csv\"\n",
    "\n",
    "for n in [inortho, indsm, invari, intgi, inpoints]:\n",
    "    n = Path(n)   "
   ]
  },
  {
   "cell_type": "code",
   "execution_count": 7,
   "metadata": {},
   "outputs": [],
   "source": [
    "#load inputs\n",
    "ptdf = pd.read_csv(inpoints)"
   ]
  },
  {
   "cell_type": "code",
   "execution_count": null,
   "metadata": {},
   "outputs": [],
   "source": [
    "#for each point sample r,g,b,dsm,vari,tgi\n",
    "\n"
   ]
  }
 ],
 "metadata": {
  "kernelspec": {
   "display_name": "Python 3",
   "language": "python",
   "name": "python3"
  },
  "language_info": {
   "codemirror_mode": {
    "name": "ipython",
    "version": 3
   },
   "file_extension": ".py",
   "mimetype": "text/x-python",
   "name": "python",
   "nbconvert_exporter": "python",
   "pygments_lexer": "ipython3",
   "version": "3.6.3"
  }
 },
 "nbformat": 4,
 "nbformat_minor": 2
}
