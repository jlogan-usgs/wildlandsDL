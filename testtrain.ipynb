{
 "cells": [
  {
   "cell_type": "code",
   "execution_count": 12,
   "metadata": {},
   "outputs": [],
   "source": [
    "from pathlib import Path\n",
    "import shutil\n",
    "import random"
   ]
  },
  {
   "cell_type": "code",
   "execution_count": 46,
   "metadata": {},
   "outputs": [],
   "source": [
    "#inputs\n",
    "\n",
    "inparentdir = Path(r\"D:\\jlogan\\2018-676-FA\\wildlands_dl\\wildlands\\dltrain2\\raw\")\n",
    "outparentdir = Path(r\"D:\\jlogan\\2018-676-FA\\wildlands_dl\\wildlands\\dltrain2\")\n",
    "\n",
    "testdir = outparentdir.joinpath(\"test\")\n",
    "traindir = outparentdir.joinpath(\"train\")\n",
    "\n",
    "testdir.mkdir(parents=True, exist_ok=True)\n",
    "traindir.mkdir(parents=True, exist_ok=True)\n",
    "\n",
    "testfraction = 0.4  #train will be 1 - testfraction"
   ]
  },
  {
   "cell_type": "code",
   "execution_count": 47,
   "metadata": {},
   "outputs": [],
   "source": [
    "dirlist = [x for x in inparentdir.iterdir() if x.is_dir()]\n",
    "\n",
    "#copy all to train\n",
    "for d in dirlist:\n",
    "    #print(f'copy {d} to {traindir.joinpath(d.name)}')\n",
    "    shutil.copytree(str(d),str(traindir.joinpath(d.name)))\n",
    "    "
   ]
  },
  {
   "cell_type": "code",
   "execution_count": 48,
   "metadata": {},
   "outputs": [
    {
     "name": "stdout",
     "output_type": "stream",
     "text": [
      "41 to test 16.\n",
      "2310 to test 924.\n",
      "2427 to test 971.\n",
      "1809 to test 724.\n",
      "946 to test 378.\n",
      "529 to test 212.\n",
      "254 to test 102.\n",
      "105 to test 42.\n",
      "1095 to test 438.\n",
      "44 to test 18.\n",
      "20 to test 8.\n",
      "8 to test 3.\n",
      "5 to test 2.\n",
      "6 to test 2.\n",
      "1 to test 0.\n",
      "2 to test 1.\n",
      "4 to test 2.\n",
      "1 to test 0.\n",
      "1665 to test 666.\n",
      "2 to test 1.\n",
      "1 to test 0.\n",
      "1 to test 0.\n",
      "1984 to test 794.\n",
      "1 to test 0.\n",
      "1 to test 0.\n",
      "1 to test 0.\n"
     ]
    }
   ],
   "source": [
    "dirlist = [x for x in traindir.iterdir() if x.is_dir()]\n",
    "\n",
    "#copy portion to test\n",
    "for d in dirlist:\n",
    "    flist = [f for f in d.glob('*.jpg')]\n",
    "    numfiles = len(flist)\n",
    "    #how many to move to test?\n",
    "    numtotest = int(round(numfiles*testfraction,0))\n",
    "    \n",
    "    #if less than 50 image then just delete dir (don't use)?\n",
    "    if len(flist) < 50:\n",
    "        shutil.rmtree(str(d))\n",
    "    else:\n",
    "        testfiles = random.sample(flist,numtotest)\n",
    "    \n",
    "        outdir = testdir.joinpath(d.parts[-1])\n",
    "        outdir.mkdir(parents=True, exist_ok=True)\n",
    "    \n",
    "    #move files\n",
    "        for fn in testfiles:\n",
    "            fn.rename(outdir.joinpath(fn.name))\n",
    "    \n",
    "    \n",
    "    print(f'{numfiles} to test {numtotest}.')\n"
   ]
  }
 ],
 "metadata": {
  "kernelspec": {
   "display_name": "Python 3",
   "language": "python",
   "name": "python3"
  },
  "language_info": {
   "codemirror_mode": {
    "name": "ipython",
    "version": 3
   },
   "file_extension": ".py",
   "mimetype": "text/x-python",
   "name": "python",
   "nbconvert_exporter": "python",
   "pygments_lexer": "ipython3",
   "version": "3.6.3"
  }
 },
 "nbformat": 4,
 "nbformat_minor": 2
}
